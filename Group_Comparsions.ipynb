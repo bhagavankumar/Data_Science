{
 "cells": [
  {
   "cell_type": "code",
   "execution_count": 32,
   "metadata": {},
   "outputs": [
    {
     "name": "stdout",
     "output_type": "stream",
     "text": [
      "              name team       position  height  weight    age\n",
      "0    Adam_Donachie  BAL        Catcher      74   180.0  22.99\n",
      "1        Paul_Bako  BAL        Catcher      74   215.0  34.69\n",
      "2  Ramon_Hernandez  BAL        Catcher      72   210.0  30.78\n",
      "3     Kevin_Millar  BAL  First_Baseman      72   210.0  35.43\n",
      "4      Chris_Gomez  BAL  First_Baseman      73   188.0  35.71\n",
      "(1034, 6)\n"
     ]
    }
   ],
   "source": [
    "#collecting list of all baseball players \n",
    "import pandas as pd\n",
    "mlb=pd.read_csv('mlb.csv')\n",
    "print(mlb.head())\n",
    "print(mlb.shape)"
   ]
  },
  {
   "cell_type": "code",
   "execution_count": 33,
   "metadata": {},
   "outputs": [
    {
     "data": {
      "text/html": [
       "<div>\n",
       "<style scoped>\n",
       "    .dataframe tbody tr th:only-of-type {\n",
       "        vertical-align: middle;\n",
       "    }\n",
       "\n",
       "    .dataframe tbody tr th {\n",
       "        vertical-align: top;\n",
       "    }\n",
       "\n",
       "    .dataframe thead th {\n",
       "        text-align: right;\n",
       "    }\n",
       "</style>\n",
       "<table border=\"1\" class=\"dataframe\">\n",
       "  <thead>\n",
       "    <tr style=\"text-align: right;\">\n",
       "      <th></th>\n",
       "      <th>height</th>\n",
       "      <th>weight</th>\n",
       "      <th>age</th>\n",
       "    </tr>\n",
       "  </thead>\n",
       "  <tbody>\n",
       "    <tr>\n",
       "      <th>count</th>\n",
       "      <td>1034.000000</td>\n",
       "      <td>1033.000000</td>\n",
       "      <td>1034.000000</td>\n",
       "    </tr>\n",
       "    <tr>\n",
       "      <th>mean</th>\n",
       "      <td>73.697292</td>\n",
       "      <td>201.689255</td>\n",
       "      <td>28.736712</td>\n",
       "    </tr>\n",
       "    <tr>\n",
       "      <th>std</th>\n",
       "      <td>2.305818</td>\n",
       "      <td>20.991491</td>\n",
       "      <td>4.320310</td>\n",
       "    </tr>\n",
       "    <tr>\n",
       "      <th>min</th>\n",
       "      <td>67.000000</td>\n",
       "      <td>150.000000</td>\n",
       "      <td>20.900000</td>\n",
       "    </tr>\n",
       "    <tr>\n",
       "      <th>25%</th>\n",
       "      <td>72.000000</td>\n",
       "      <td>187.000000</td>\n",
       "      <td>25.440000</td>\n",
       "    </tr>\n",
       "    <tr>\n",
       "      <th>50%</th>\n",
       "      <td>74.000000</td>\n",
       "      <td>200.000000</td>\n",
       "      <td>27.925000</td>\n",
       "    </tr>\n",
       "    <tr>\n",
       "      <th>75%</th>\n",
       "      <td>75.000000</td>\n",
       "      <td>215.000000</td>\n",
       "      <td>31.232500</td>\n",
       "    </tr>\n",
       "    <tr>\n",
       "      <th>max</th>\n",
       "      <td>83.000000</td>\n",
       "      <td>290.000000</td>\n",
       "      <td>48.520000</td>\n",
       "    </tr>\n",
       "  </tbody>\n",
       "</table>\n",
       "</div>"
      ],
      "text/plain": [
       "            height       weight          age\n",
       "count  1034.000000  1033.000000  1034.000000\n",
       "mean     73.697292   201.689255    28.736712\n",
       "std       2.305818    20.991491     4.320310\n",
       "min      67.000000   150.000000    20.900000\n",
       "25%      72.000000   187.000000    25.440000\n",
       "50%      74.000000   200.000000    27.925000\n",
       "75%      75.000000   215.000000    31.232500\n",
       "max      83.000000   290.000000    48.520000"
      ]
     },
     "execution_count": 33,
     "metadata": {},
     "output_type": "execute_result"
    }
   ],
   "source": [
    "#Getting all the stats regarding the data\n",
    "mlb.describe()"
   ]
  },
  {
   "cell_type": "code",
   "execution_count": 34,
   "metadata": {},
   "outputs": [
    {
     "data": {
      "image/png": "[encoded data removed]",
      "text/plain": [
       "<Figure size 432x288 with 1 Axes>"
      ]
     },
     "metadata": {
      "needs_background": "light"
     },
     "output_type": "display_data"
    }
   ],
   "source": [
    "import matplotlib.pyplot as plt\n",
    "fig1, ax1=plt.subplots()\n",
    "ax1.boxplot([mlb['height']])\n",
    "ax1.set_ylabel('Height(Inches)')\n",
    "plt.title('MLB Player Heights')\n",
    "plt.xticks([1],['Full Population'])\n",
    "plt.show()"
   ]
  },
  {
   "cell_type": "code",
   "execution_count": 35,
   "metadata": {},
   "outputs": [],
   "source": [
    "sample1=mlb.sample(n=30,random_state=8675309)\n",
    "sample2=mlb.sample(n=30,random_state=1729)"
   ]
  },
  {
   "cell_type": "code",
   "execution_count": 36,
   "metadata": {},
   "outputs": [],
   "source": [
    "sample3=[71,72,73,74,74,76,75,75,75,76,75,77,76,75,77,76,75,76,76,75,75,81,77,75,77,75,77,77,75,75]"
   ]
  },
  {
   "cell_type": "code",
   "execution_count": 37,
   "metadata": {},
   "outputs": [
    {
     "data": {
      "image/png": "[encoded data removed]",
      "text/plain": [
       "<Figure size 432x288 with 1 Axes>"
      ]
     },
     "metadata": {
      "needs_background": "light"
     },
     "output_type": "display_data"
    }
   ],
   "source": [
    "import numpy as np\n",
    "fig1,ax1=plt.subplots()\n",
    "ax1.boxplot([mlb['height'],sample1['height'],sample2['height'],np.array(sample3)])\n",
    "ax1.set_ylabel('Height(Inches)')\n",
    "plt.title('MLB Player Heights')\n",
    "plt.xticks([1,2,3,4],['Full Population','Sample1','Sample2','Sample3'])\n",
    "plt.show()"
   ]
  },
  {
   "cell_type": "code",
   "execution_count": 38,
   "metadata": {},
   "outputs": [
    {
     "name": "stdout",
     "output_type": "stream",
     "text": [
      "73.8\n",
      "74.36666666666666\n",
      "75.43333333333334\n"
     ]
    }
   ],
   "source": [
    "print(np.mean(sample1['height']))\n",
    "print(np.mean(sample2['height']))\n",
    "print(np.mean(sample3))"
   ]
  },
  {
   "cell_type": "code",
   "execution_count": 39,
   "metadata": {},
   "outputs": [
    {
     "name": "stdout",
     "output_type": "stream",
     "text": [
      "[0.8333333333333286, -0.30000000000001137, -0.10000000000000853, -0.1666666666666572, 0.06666666666667709, -0.9666666666666686, 0.7999999999999972, 0.9333333333333371, -0.5333333333333314, -0.20000000000000284]\n"
     ]
    }
   ],
   "source": [
    "alldifferences=[]\n",
    "for i in range(1000):\n",
    "    newsample1=mlb.sample(n=30,random_state=i*2)\n",
    "    newsample2=mlb.sample(n=30,random_state=i*2+1)\n",
    "    alldifferences.append(newsample1['height'].mean()-newsample2['height'].mean())\n",
    "print(alldifferences[0:10])"
   ]
  },
  {
   "cell_type": "code",
   "execution_count": 40,
   "metadata": {},
   "outputs": [
    {
     "name": "stderr",
     "output_type": "stream",
     "text": [
      "C:\\Users\\Bhagavan\\anaconda3\\lib\\site-packages\\seaborn\\distributions.py:2551: FutureWarning: `distplot` is a deprecated function and will be removed in a future version. Please adapt your code to use either `displot` (a figure-level function with similar flexibility) or `histplot` (an axes-level function for histograms).\n",
      "  warnings.warn(msg, FutureWarning)\n"
     ]
    },
    {
     "data": {
      "image/png": "[encoded data removed]",
      "text/plain": [
       "<Figure size 432x288 with 1 Axes>"
      ]
     },
     "metadata": {},
     "output_type": "display_data"
    }
   ],
   "source": [
    "import seaborn as sns\n",
    "sns.set()\n",
    "ax=sns.distplot(alldifferences).set_title(\"Differences between sample means\")\n",
    "plt.xlabel('Difference between Means(Inches)')\n",
    "plt.ylabel('Relative Frequency')\n",
    "plt.show()"
   ]
  },
  {
   "cell_type": "code",
   "execution_count": 41,
   "metadata": {},
   "outputs": [
    {
     "name": "stdout",
     "output_type": "stream",
     "text": [
      "8\n"
     ]
    }
   ],
   "source": [
    "#Checking the sample means differences with greater than 1.6 in 1000 samples\n",
    "largedifferences=[diff for diff in alldifferences if abs(diff)>=1.6]\n",
    "print(len(largedifferences))"
   ]
  },
  {
   "cell_type": "code",
   "execution_count": 42,
   "metadata": {},
   "outputs": [
    {
     "name": "stdout",
     "output_type": "stream",
     "text": [
      "314\n"
     ]
    }
   ],
   "source": [
    "smalldifferences=[diff for diff in alldifferences if abs(diff)>=0.6]\n",
    "print(len(smalldifferences))"
   ]
  },
  {
   "cell_type": "code",
   "execution_count": 43,
   "metadata": {},
   "outputs": [],
   "source": [
    "#Hypothesis 0: sample 1 and sample 3 are random samples from the same population\n",
    "#Hypothesis 1: sample 1 and sample 3 are not random samples from the same population"
   ]
  },
  {
   "cell_type": "code",
   "execution_count": 44,
   "metadata": {},
   "outputs": [
    {
     "data": {
      "text/plain": [
       "Ttest_indResult(statistic=-3.108694797644094, pvalue=0.002910554741439718)"
      ]
     },
     "execution_count": 44,
     "metadata": {},
     "output_type": "execute_result"
    }
   ],
   "source": [
    "import scipy.stats\n",
    "scipy.stats.ttest_ind(sample1['height'],sample3)"
   ]
  },
  {
   "cell_type": "code",
   "execution_count": 45,
   "metadata": {},
   "outputs": [],
   "source": [
    "#Hence here we reject Hypothesis 0 whcih says they are from same population"
   ]
  },
  {
   "cell_type": "code",
   "execution_count": 46,
   "metadata": {},
   "outputs": [
    {
     "data": {
      "text/plain": [
       "Ttest_indResult(statistic=-1.0839563860213952, pvalue=0.2828695892305152)"
      ]
     },
     "execution_count": 46,
     "metadata": {},
     "output_type": "execute_result"
    }
   ],
   "source": [
    "import scipy.stats\n",
    "scipy.stats.ttest_ind(sample1['height'],sample2['height'])\n"
   ]
  },
  {
   "cell_type": "code",
   "execution_count": 47,
   "metadata": {},
   "outputs": [],
   "source": [
    "#Here for sample 1 and sample 2, the pvalue is greater than significance level(0.05) which inds they are from same population"
   ]
  },
  {
   "cell_type": "code",
   "execution_count": 48,
   "metadata": {},
   "outputs": [
    {
     "data": {
      "text/plain": [
       "MannwhitneyuResult(statistic=392.0, pvalue=0.38913738408151577)"
      ]
     },
     "execution_count": 48,
     "metadata": {},
     "output_type": "execute_result"
    }
   ],
   "source": [
    "scipy.stats.mannwhitneyu(sample1['height'],sample2['height'])"
   ]
  },
  {
   "cell_type": "code",
   "execution_count": 49,
   "metadata": {},
   "outputs": [],
   "source": [
    "desktop=pd.read_csv('desktop.csv')\n",
    "laptop=pd.read_csv('laptop.csv')"
   ]
  },
  {
   "cell_type": "code",
   "execution_count": 50,
   "metadata": {},
   "outputs": [
    {
     "data": {
      "image/png": "[encoded data removed]",
      "text/plain": [
       "<Figure size 432x288 with 1 Axes>"
      ]
     },
     "metadata": {
      "needs_background": "light"
     },
     "output_type": "display_data"
    }
   ],
   "source": [
    "import matplotlib.pyplot as plt\n",
    "sns.reset_orig()\n",
    "fig1,ax1=plt.subplots()\n",
    "ax1.set_title('Spending by desktop and laptop subscribers')\n",
    "ax1.boxplot([desktop['spending'].values,laptop['spending'].values])\n",
    "ax1.set_ylabel('Spending($)')\n",
    "plt.xticks([1,2],['Desktop subscribers','laptop subscribers'])\n",
    "plt.show()"
   ]
  },
  {
   "cell_type": "code",
   "execution_count": 51,
   "metadata": {},
   "outputs": [
    {
     "name": "stdout",
     "output_type": "stream",
     "text": [
      "35.766666666666666\n",
      "38.733333333333334\n"
     ]
    }
   ],
   "source": [
    "print(np.mean(desktop['age']))\n",
    "print(np.mean(laptop['age']))"
   ]
  },
  {
   "cell_type": "code",
   "execution_count": 52,
   "metadata": {},
   "outputs": [],
   "source": [
    "#Hypothesis 0: The two email lists are random samples for the same population\n",
    "#Hypothesis 1: The two email lists are not random samples from the same population"
   ]
  },
  {
   "cell_type": "code",
   "execution_count": 53,
   "metadata": {},
   "outputs": [
    {
     "data": {
      "text/plain": [
       "Ttest_indResult(statistic=-2.109853741030508, pvalue=0.03919630411621095)"
      ]
     },
     "execution_count": 53,
     "metadata": {},
     "output_type": "execute_result"
    }
   ],
   "source": [
    "scipy.stats.ttest_ind(vun['spending'],laptop['spending'])"
   ]
  },
  {
   "cell_type": "code",
   "execution_count": 54,
   "metadata": {},
   "outputs": [],
   "source": [
    "#so we reject null hypothesis and send separate emails fo both laptop and desktop ssubscribers"
   ]
  }
 ],
 "metadata": {
  "kernelspec": {
   "display_name": "Python 3",
   "language": "python",
   "name": "python3"
  },
  "language_info": {
   "codemirror_mode": {
    "name": "ipython",
    "version": 3
   },
   "file_extension": ".py",
   "mimetype": "text/x-python",
   "name": "python",
   "nbconvert_exporter": "python",
   "pygments_lexer": "ipython3",
   "version": "3.8.5"
  }
 },
 "nbformat": 4,
 "nbformat_minor": 4
}
