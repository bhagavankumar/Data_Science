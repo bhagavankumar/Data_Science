{
 "cells": [
  {
   "cell_type": "code",
   "execution_count": 2,
   "metadata": {},
   "outputs": [
    {
     "name": "stdout",
     "output_type": "stream",
     "text": [
      "            user1  user2  user3  user4  user5\n",
      "Unnamed: 0                                   \n",
      "item1           1      1      0      1      1\n",
      "item2           1      0      1      1      0\n",
      "item3           1      1      0      1      1\n",
      "item4           1      0      1      0      1\n",
      "item5           1      1      0      0      1\n"
     ]
    }
   ],
   "source": [
    "import pandas as pd\n",
    "import numpy as np\n",
    "interaction=pd.read_csv('https://bradfordtuckfield.com/purchasehistory1.csv')\n",
    "interaction.set_index(\"Unnamed: 0\",inplace=True)\n",
    "print(interaction)"
   ]
  },
  {
   "cell_type": "code",
   "execution_count": 3,
   "metadata": {},
   "outputs": [
    {
     "name": "stdout",
     "output_type": "stream",
     "text": [
      "['item1', 'item3', 'item2', 'item4', 'item5']\n"
     ]
    }
   ],
   "source": [
    "interaction_withcounts=interaction.copy()\n",
    "interaction_withcounts.loc[:,'counts']=interaction_withcounts.sum(axis=1)\n",
    "interaction_withcounts=interaction_withcounts.sort_values(by='counts',ascending=False)\n",
    "print(list(interaction_withcounts.index))"
   ]
  },
  {
   "cell_type": "code",
   "execution_count": 4,
   "metadata": {},
   "outputs": [],
   "source": [
    "def popularity_based(interaction):\n",
    "    interaction_withcounts=interaction.copy()\n",
    "    interaction_withcounts.loc[:,'counts']=interaction_withcounts.sum(axis=1)\n",
    "    sorted=interaction_withcounts.sort_values(by=\"counts\",ascending=False)\n",
    "    most_popular=list(sorted.index)\n",
    "    return(most_popular)"
   ]
  },
  {
   "cell_type": "code",
   "execution_count": 5,
   "metadata": {},
   "outputs": [
    {
     "name": "stdout",
     "output_type": "stream",
     "text": [
      "[1, 1, 0, 1, 1]\n"
     ]
    }
   ],
   "source": [
    "print(list(interaction.loc['item1',:]))"
   ]
  },
  {
   "cell_type": "code",
   "execution_count": 6,
   "metadata": {},
   "outputs": [],
   "source": [
    "def dot_product(vector1,vector2):\n",
    "    thedotproduct=np.sum([vector1[k]*vector2[k] for k in range(0,len(vector1))])\n",
    "    return(thedotproduct)\n",
    "def vector_norm(vector):\n",
    "    thenorm=np.sqrt(dot_product(vector,vector))\n",
    "    return(thenorm)\n"
   ]
  },
  {
   "cell_type": "code",
   "execution_count": 7,
   "metadata": {},
   "outputs": [],
   "source": [
    "def cosine_similarity(vector1,vector2):\n",
    "    thedotproduct=dot_product(vector1,vector2)\n",
    "    thecosine=thedotproduct/(vector_norm(vector1)*vector_norm(vector2))\n",
    "    return(thecosine)"
   ]
  },
  {
   "cell_type": "code",
   "execution_count": 8,
   "metadata": {},
   "outputs": [
    {
     "name": "stdout",
     "output_type": "stream",
     "text": [
      "1.0\n"
     ]
    }
   ],
   "source": [
    "import numpy as np\n",
    "item1=interaction.loc['item1',:]\n",
    "item3=interaction.loc['item3',:]\n",
    "print(cosine_similarity(item1,item3))"
   ]
  },
  {
   "cell_type": "code",
   "execution_count": 9,
   "metadata": {},
   "outputs": [
    {
     "name": "stdout",
     "output_type": "stream",
     "text": [
      "0.33333333333333337\n"
     ]
    }
   ],
   "source": [
    "item2=list(interaction.loc['item2',:])\n",
    "item5=list(interaction.loc['item5',:])\n",
    "print(cosine_similarity(item2,item5))"
   ]
  },
  {
   "cell_type": "code",
   "execution_count": 10,
   "metadata": {},
   "outputs": [],
   "source": [
    "#item-based\n",
    "ouritem='item1'\n",
    "otherrows=[rowname for rowname in interaction.index if rowname!=ouritem]\n",
    "otheritems=interaction.loc[otherrows,:]\n",
    "theitem=interaction.loc[ouritem,:]"
   ]
  },
  {
   "cell_type": "code",
   "execution_count": 11,
   "metadata": {},
   "outputs": [],
   "source": [
    "similarities=[]\n",
    "for items in otheritems.index:\n",
    "    similarities.append(cosine_similarity(theitem,otheritems.loc[items,:]))\n",
    "otheritems['similarities']=similarities\n",
    "recommendations=list(otheritems.sort_values(by='similarities',ascending=False).index)"
   ]
  },
  {
   "cell_type": "code",
   "execution_count": 12,
   "metadata": {},
   "outputs": [
    {
     "name": "stdout",
     "output_type": "stream",
     "text": [
      "['item3', 'item5', 'item2', 'item4']\n"
     ]
    }
   ],
   "source": [
    "print(recommendations)"
   ]
  },
  {
   "cell_type": "code",
   "execution_count": 13,
   "metadata": {},
   "outputs": [],
   "source": [
    "def get_item_recommendations(interaction,itemname):\n",
    "    otherrows=[rowname for rowname in interaction.index if rowname!=itemname]\n",
    "    otheritems=interaction.loc[otherrows,:]\n",
    "    theitem=list(interaction.loc[itemname,:])\n",
    "    similarities=[]\n",
    "    for items in otheritems.index:\n",
    "        similarities.append(cosine_similarity(theitem,list(otheritems.loc[items,:])))\n",
    "    otheritems['similarities']=similarities\n",
    "    return list(otheritems.sort_values(by='similarities',ascending=False).index)"
   ]
  },
  {
   "cell_type": "code",
   "execution_count": 14,
   "metadata": {},
   "outputs": [
    {
     "data": {
      "text/plain": [
       "['item3', 'item5', 'item2', 'item4']"
      ]
     },
     "execution_count": 14,
     "metadata": {},
     "output_type": "execute_result"
    }
   ],
   "source": [
    "get_item_recommendations(interaction,'item1')"
   ]
  },
  {
   "cell_type": "code",
   "execution_count": 15,
   "metadata": {},
   "outputs": [
    {
     "name": "stdout",
     "output_type": "stream",
     "text": [
      "0.8660254037844387\n"
     ]
    }
   ],
   "source": [
    "#user-based\n",
    "user2=interaction.loc[:,'user2']\n",
    "user5=interaction.loc[:,'user5']\n",
    "print(cosine_similarity(user2,user5))"
   ]
  },
  {
   "cell_type": "code",
   "execution_count": 17,
   "metadata": {},
   "outputs": [
    {
     "name": "stdout",
     "output_type": "stream",
     "text": [
      "0.35355339059327373\n"
     ]
    }
   ],
   "source": [
    "user3=interaction.loc[:,'user3']\n",
    "user5=interaction.loc[:,'user5']\n",
    "print(cosine_similarity(user3,user5))"
   ]
  },
  {
   "cell_type": "code",
   "execution_count": 21,
   "metadata": {},
   "outputs": [],
   "source": [
    "def get_similar_users(interaction,username):\n",
    "    othercolumns=[columnname for columnname in interaction.columns if columnname!=username]\n",
    "    otherusers=interaction[othercolumns]\n",
    "    theuser=list(interaction[username])\n",
    "    similarities=[]\n",
    "    for users in otherusers.columns:\n",
    "        similarities.append(cosine_similarity(theuser,list(otherusers.loc[:,users])))\n",
    "    otherusers.loc['similarities',:]=similarities\n",
    "    return list(otherusers.sort_values(by='similarities',axis=1,ascending=False).columns)"
   ]
  },
  {
   "cell_type": "code",
   "execution_count": 22,
   "metadata": {},
   "outputs": [
    {
     "name": "stdout",
     "output_type": "stream",
     "text": [
      "['user5', 'user2', 'user4', 'user3']\n"
     ]
    },
    {
     "name": "stderr",
     "output_type": "stream",
     "text": [
      "<ipython-input-21-a6e1564abba5>:8: SettingWithCopyWarning: \n",
      "A value is trying to be set on a copy of a slice from a DataFrame\n",
      "\n",
      "See the caveats in the documentation: https://pandas.pydata.org/pandas-docs/stable/user_guide/indexing.html#returning-a-view-versus-a-copy\n",
      "  otherusers.loc['similarities',:]=similarities\n"
     ]
    }
   ],
   "source": [
    "print(get_similar_users(interaction,'user1'))"
   ]
  },
  {
   "cell_type": "code",
   "execution_count": 23,
   "metadata": {},
   "outputs": [],
   "source": [
    "def get_user_recommendations(interaction,username):\n",
    "    similar_users=get_similar_users(interaction,username)\n",
    "    purchase_history=interaction[similar_users[0]]\n",
    "    purchased=list(purchase_history.loc[purchase_history==1].index)\n",
    "    purchased2=list(interaction.loc[interaction[username]==1,:].index)\n",
    "    recs=sorted(list(set(purchased)-set(purchased2)))\n",
    "    return(recs)"
   ]
  },
  {
   "cell_type": "code",
   "execution_count": 24,
   "metadata": {},
   "outputs": [
    {
     "name": "stdout",
     "output_type": "stream",
     "text": [
      "['item4']\n"
     ]
    },
    {
     "name": "stderr",
     "output_type": "stream",
     "text": [
      "<ipython-input-21-a6e1564abba5>:8: SettingWithCopyWarning: \n",
      "A value is trying to be set on a copy of a slice from a DataFrame\n",
      "\n",
      "See the caveats in the documentation: https://pandas.pydata.org/pandas-docs/stable/user_guide/indexing.html#returning-a-view-versus-a-copy\n",
      "  otherusers.loc['similarities',:]=similarities\n"
     ]
    }
   ],
   "source": [
    "print(get_user_recommendations(interaction,'user2'))"
   ]
  },
  {
   "cell_type": "code",
   "execution_count": 25,
   "metadata": {},
   "outputs": [
    {
     "name": "stdout",
     "output_type": "stream",
     "text": [
      "   user  a perfect circle  abba  ac/dc  adam green  aerosmith  afi  air  \\\n",
      "0     1                 0     0      0           0          0    0    0   \n",
      "1    33                 0     0      0           1          0    0    0   \n",
      "2    42                 0     0      0           0          0    0    0   \n",
      "3    51                 0     0      0           0          0    0    0   \n",
      "4    62                 0     0      0           0          0    0    0   \n",
      "\n",
      "   alanis morissette  alexisonfire  ...  timbaland  tom waits  tool  \\\n",
      "0                  0             0  ...          0          0     0   \n",
      "1                  0             0  ...          0          0     0   \n",
      "2                  0             0  ...          0          0     0   \n",
      "3                  0             0  ...          0          0     0   \n",
      "4                  0             0  ...          0          0     0   \n",
      "\n",
      "   tori amos  travis  trivium  u2  underoath  volbeat  yann tiersen  \n",
      "0          0       0        0   0          0        0             0  \n",
      "1          0       0        0   0          0        0             0  \n",
      "2          0       0        0   0          0        0             0  \n",
      "3          0       0        0   0          0        0             0  \n",
      "4          0       0        0   0          0        0             0  \n",
      "\n",
      "[5 rows x 286 columns]\n"
     ]
    }
   ],
   "source": [
    "#case_study\n",
    "import pandas as pd\n",
    "lastfm=pd.read_csv(\"https://bradfordtuckfield.com/lastfm-matrix-germany.csv\")\n",
    "print(lastfm.head())"
   ]
  },
  {
   "cell_type": "code",
   "execution_count": 26,
   "metadata": {},
   "outputs": [],
   "source": [
    "lastfm.drop(['user'],axis=1,inplace=True)"
   ]
  },
  {
   "cell_type": "code",
   "execution_count": 27,
   "metadata": {},
   "outputs": [],
   "source": [
    "#transpose matrix\n",
    "lastfmt=lastfm.T"
   ]
  },
  {
   "cell_type": "code",
   "execution_count": 28,
   "metadata": {},
   "outputs": [
    {
     "name": "stdout",
     "output_type": "stream",
     "text": [
      "(285, 1257)\n"
     ]
    }
   ],
   "source": [
    "print(lastfmt.shape)"
   ]
  },
  {
   "cell_type": "code",
   "execution_count": 29,
   "metadata": {},
   "outputs": [
    {
     "data": {
      "text/plain": [
       "['madonna',\n",
       " 'robbie williams',\n",
       " 'elvis presley',\n",
       " 'michael jackson',\n",
       " 'queen',\n",
       " 'the beatles',\n",
       " 'kelly clarkson',\n",
       " 'groove coverage',\n",
       " 'duffy',\n",
       " 'mika']"
      ]
     },
     "execution_count": 29,
     "metadata": {},
     "output_type": "execute_result"
    }
   ],
   "source": [
    "get_item_recommendations(lastfmt,'abba')[0:10]"
   ]
  },
  {
   "cell_type": "code",
   "execution_count": 30,
   "metadata": {},
   "outputs": [
    {
     "name": "stderr",
     "output_type": "stream",
     "text": [
      "<ipython-input-7-1b4fcb32e8eb>:3: RuntimeWarning: invalid value encountered in scalar divide\n",
      "  thecosine=thedotproduct/(vector_norm(vector1)*vector_norm(vector2))\n"
     ]
    },
    {
     "name": "stdout",
     "output_type": "stream",
     "text": [
      "['billy talent', 'bob marley', 'die toten hosen']\n"
     ]
    },
    {
     "name": "stderr",
     "output_type": "stream",
     "text": [
      "<ipython-input-21-a6e1564abba5>:8: SettingWithCopyWarning: \n",
      "A value is trying to be set on a copy of a slice from a DataFrame\n",
      "\n",
      "See the caveats in the documentation: https://pandas.pydata.org/pandas-docs/stable/user_guide/indexing.html#returning-a-view-versus-a-copy\n",
      "  otherusers.loc['similarities',:]=similarities\n"
     ]
    }
   ],
   "source": [
    "#recommendations for user 0\n",
    "print(get_user_recommendations(lastfmt,0)[0:3])"
   ]
  },
  {
   "cell_type": "code",
   "execution_count": null,
   "metadata": {},
   "outputs": [],
   "source": []
  }
 ],
 "metadata": {
  "kernelspec": {
   "display_name": "Python 3",
   "language": "python",
   "name": "python3"
  },
  "language_info": {
   "codemirror_mode": {
    "name": "ipython",
    "version": 3
   },
   "file_extension": ".py",
   "mimetype": "text/x-python",
   "name": "python",
   "nbconvert_exporter": "python",
   "pygments_lexer": "ipython3",
   "version": "3.8.5"
  }
 },
 "nbformat": 4,
 "nbformat_minor": 4
}
