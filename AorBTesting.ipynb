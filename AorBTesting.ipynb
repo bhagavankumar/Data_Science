{
 "cells": [
  {
   "cell_type": "code",
   "execution_count": 2,
   "metadata": {},
   "outputs": [
    {
     "name": "stderr",
     "output_type": "stream",
     "text": [
      "C:\\Users\\Bhagavan\\anaconda3\\lib\\site-packages\\pandas\\core\\computation\\expressions.py:20: UserWarning: Pandas requires version '2.7.3' or newer of 'numexpr' (version '2.7.1' currently installed).\n",
      "  from pandas.core.computation.check import NUMEXPR_INSTALLED\n"
     ]
    }
   ],
   "source": [
    "import pandas as pd\n",
    "desktop=pd.read_csv('desktop.csv')\n",
    "laptop=pd.read_csv('laptop.csv')\n"
   ]
  },
  {
   "cell_type": "code",
   "execution_count": 3,
   "metadata": {},
   "outputs": [
    {
     "name": "stderr",
     "output_type": "stream",
     "text": [
      "<frozen importlib._bootstrap>:219: RuntimeWarning: scipy._lib.messagestream.MessageStream size changed, may indicate binary incompatibility. Expected 56 from C header, got 64 from PyObject\n"
     ]
    },
    {
     "name": "stdout",
     "output_type": "stream",
     "text": [
      "Ttest_indResult(statistic=-2.109853741030508, pvalue=0.03919630411621095)\n",
      "Ttest_indResult(statistic=-0.7101437106800108, pvalue=0.4804606394128761)\n",
      "Ttest_indResult(statistic=0.20626752311535543, pvalue=0.8373043059847984)\n"
     ]
    }
   ],
   "source": [
    "import scipy.stats\n",
    "print(scipy.stats.ttest_ind(desktop['spending'],laptop['spending']))\n",
    "print(scipy.stats.ttest_ind(desktop['age'],laptop['age']))\n",
    "print(scipy.stats.ttest_ind(desktop['visits'],laptop['visits']))"
   ]
  },
  {
   "cell_type": "code",
   "execution_count": 4,
   "metadata": {},
   "outputs": [],
   "source": [
    "#Hypothesis 0: Changing color of text in our emails from black to blue will have no effect on revenues\n",
    "#Hypothesis 1: Changing color of text in our emails from black to blue will lead to change revenues\n"
   ]
  },
  {
   "cell_type": "code",
   "execution_count": 5,
   "metadata": {},
   "outputs": [],
   "source": [
    "#Splitting desktop data into two groups based on age\n",
    "import numpy as np\n",
    "medianage=np.median(desktop['age'])\n",
    "groupa=desktop.loc[desktop['age']<=medianage,:]\n",
    "groupb=desktop.loc[desktop['age']>medianage,:]"
   ]
  },
  {
   "cell_type": "code",
   "execution_count": 6,
   "metadata": {},
   "outputs": [],
   "source": [
    "emailresults1=pd.read_csv('emailresults1.csv')"
   ]
  },
  {
   "cell_type": "code",
   "execution_count": 7,
   "metadata": {},
   "outputs": [],
   "source": [
    "groupa_withrevenue=groupa.merge(emailresults1, on='userid')\n",
    "groupb_withrevenue=groupb.merge(emailresults1, on='userid')"
   ]
  },
  {
   "cell_type": "code",
   "execution_count": 8,
   "metadata": {},
   "outputs": [
    {
     "name": "stdout",
     "output_type": "stream",
     "text": [
      "Ttest_indResult(statistic=-2.186454851070545, pvalue=0.03730073920038287)\n"
     ]
    }
   ],
   "source": [
    "print(scipy.stats.ttest_ind(groupa_withrevenue['revenue'],groupb_withrevenue['revenue']))"
   ]
  },
  {
   "cell_type": "code",
   "execution_count": 9,
   "metadata": {},
   "outputs": [
    {
     "name": "stdout",
     "output_type": "stream",
     "text": [
      "125.0\n"
     ]
    }
   ],
   "source": [
    "print(np.mean(groupb_withrevenue['revenue'])-np.mean(groupa_withrevenue['revenue']))"
   ]
  },
  {
   "cell_type": "code",
   "execution_count": 10,
   "metadata": {},
   "outputs": [],
   "source": [
    "#here conclusion is changing the text from balck to blue has an effect and we reject hypothesis 0\n",
    "#But here there is one more factor contributing which is age as we divided groups based on age\n",
    "#We should divide the groups equally and both groups should be similar and we go to that now\n"
   ]
  },
  {
   "cell_type": "code",
   "execution_count": 11,
   "metadata": {},
   "outputs": [],
   "source": [
    "#Here we divide groups equally based on binary numbers 0 and 1, onw group email has a picture and the \n",
    "#other email doesn't have a picture. We will find out whether this change gives more revenue on avg\n",
    "np.random.seed(18811015)\n",
    "laptop.loc[:,'groupassignment1']=1*(np.random.random(len(laptop.index))>0.5)\n",
    "groupc=laptop.loc[laptop['groupassignment1']==0,:].copy()\n",
    "groupd=laptop.loc[laptop['groupassignment1']==1,:].copy()"
   ]
  },
  {
   "cell_type": "code",
   "execution_count": 12,
   "metadata": {},
   "outputs": [],
   "source": [
    "emailresults2=pd.read_csv('emailresults2.csv')"
   ]
  },
  {
   "cell_type": "code",
   "execution_count": 13,
   "metadata": {},
   "outputs": [],
   "source": [
    "groupc_withrevenue=groupc.merge(emailresults2,on='userid')\n",
    "groupd_withrevenue=groupd.merge(emailresults2,on='userid')"
   ]
  },
  {
   "cell_type": "code",
   "execution_count": 14,
   "metadata": {},
   "outputs": [
    {
     "name": "stdout",
     "output_type": "stream",
     "text": [
      "Ttest_indResult(statistic=-2.381320497676198, pvalue=0.024288828555138562)\n"
     ]
    }
   ],
   "source": [
    "print(scipy.stats.ttest_ind(groupc_withrevenue['revenue'],groupd_withrevenue['revenue']))"
   ]
  },
  {
   "cell_type": "code",
   "execution_count": 15,
   "metadata": {},
   "outputs": [
    {
     "name": "stdout",
     "output_type": "stream",
     "text": [
      "260.3333333333333\n"
     ]
    }
   ],
   "source": [
    "print(np.mean(groupd_withrevenue['revenue'])-np.mean(groupc_withrevenue['revenue']))"
   ]
  },
  {
   "cell_type": "code",
   "execution_count": 16,
   "metadata": {},
   "outputs": [],
   "source": [
    "#here we have the pvalue less than 0.5 which is really significant and so including picture in the\n",
    "#email has non zero effect and the effect is around 260$ on average for our experiment"
   ]
  },
  {
   "cell_type": "code",
   "execution_count": 17,
   "metadata": {},
   "outputs": [],
   "source": [
    "#We don't know whether this 260$ is more or less, hence we use (cohen's d) which is based on standard\n",
    "#deviation. the value less than 0.2 is smaller, around 0.5 is medium and greater than 0.8 is higher"
   ]
  },
  {
   "cell_type": "code",
   "execution_count": 18,
   "metadata": {},
   "outputs": [
    {
     "name": "stdout",
     "output_type": "stream",
     "text": [
      "0.763769235188029\n",
      "0.81971979715772\n"
     ]
    }
   ],
   "source": [
    "print(125/np.std(emailresults1['revenue']))\n",
    "print(260/np.std(emailresults2['revenue']))"
   ]
  },
  {
   "cell_type": "code",
   "execution_count": 19,
   "metadata": {},
   "outputs": [],
   "source": [
    "from statsmodels.stats.power import TTestIndPower"
   ]
  },
  {
   "cell_type": "code",
   "execution_count": 20,
   "metadata": {},
   "outputs": [],
   "source": [
    "#statisticl significance value is alpha\n",
    "#we need number of observations we are running the data on groupa or groupb\n",
    "#effect size is the value of cohen's d\n",
    "alpha=0.05\n",
    "nobs=45\n",
    "effectsize=0.5"
   ]
  },
  {
   "cell_type": "code",
   "execution_count": 21,
   "metadata": {},
   "outputs": [
    {
     "name": "stdout",
     "output_type": "stream",
     "text": [
      "0.650185508449861\n"
     ]
    }
   ],
   "source": [
    "analysis=TTestIndPower()\n",
    "power=analysis.solve_power(effect_size=effectsize,nobs1=nobs,alpha=alpha)\n",
    "print(power) "
   ]
  },
  {
   "cell_type": "code",
   "execution_count": 22,
   "metadata": {},
   "outputs": [],
   "source": [
    "#this indicates 65% chance of detecting an effect from our A/B testing and 35% chance that even though\n",
    "#true effect exists A/B test can't find it"
   ]
  },
  {
   "cell_type": "code",
   "execution_count": 23,
   "metadata": {},
   "outputs": [
    {
     "name": "stdout",
     "output_type": "stream",
     "text": [
      "63.765610587854034\n"
     ]
    },
    {
     "name": "stderr",
     "output_type": "stream",
     "text": [
      "C:\\Users\\Bhagavan\\anaconda3\\lib\\site-packages\\scipy\\stats\\_continuous_distns.py:6832: RuntimeWarning: invalid value encountered in _nct_sf\n",
      "  return np.clip(_boost._nct_sf(x, df, nc), 0, 1)\n",
      "C:\\Users\\Bhagavan\\anaconda3\\lib\\site-packages\\scipy\\stats\\_continuous_distns.py:6826: RuntimeWarning: invalid value encountered in _nct_cdf\n",
      "  return np.clip(_boost._nct_cdf(x, df, nc), 0, 1)\n"
     ]
    }
   ],
   "source": [
    "analysis=TTestIndPower()\n",
    "alpha=0.05\n",
    "power=0.8\n",
    "effect=0.5\n",
    "observations=analysis.solve_power(effect_size=effect,power=power,alpha=alpha)\n",
    "print(observations)"
   ]
  },
  {
   "cell_type": "code",
   "execution_count": 24,
   "metadata": {},
   "outputs": [],
   "source": [
    "#TO conclude if we need 80 percent power we need to have 64 participants in each group"
   ]
  },
  {
   "cell_type": "code",
   "execution_count": 25,
   "metadata": {},
   "outputs": [
    {
     "name": "stdout",
     "output_type": "stream",
     "text": [
      "5000.0\n"
     ]
    }
   ],
   "source": [
    "analysis=TTestIndPower()\n",
    "alpha=0.05\n",
    "power=1.0\n",
    "effect=0.5\n",
    "observations=analysis.solve_power(effect_size=effect,power=power,alpha=alpha)\n",
    "print(observations)"
   ]
  },
  {
   "cell_type": "code",
   "execution_count": null,
   "metadata": {},
   "outputs": [],
   "source": []
  }
 ],
 "metadata": {
  "kernelspec": {
   "display_name": "Python 3",
   "language": "python",
   "name": "python3"
  },
  "language_info": {
   "codemirror_mode": {
    "name": "ipython",
    "version": 3
   },
   "file_extension": ".py",
   "mimetype": "text/x-python",
   "name": "python",
   "nbconvert_exporter": "python",
   "pygments_lexer": "ipython3",
   "version": "3.8.5"
  }
 },
 "nbformat": 4,
 "nbformat_minor": 4
}
